{
 "cells": [
  {
   "cell_type": "code",
   "execution_count": 2,
   "metadata": {},
   "outputs": [
    {
     "name": "stdout",
     "output_type": "stream",
     "text": [
      "CITIES STREETVIEWED: \n",
      "within the last year:  273\n",
      "within the last 6 months:  137\n",
      "within the past 3 months:  45\n",
      "within the past month:  3\n"
     ]
    }
   ],
   "source": [
    "import pandas as pd\n",
    "\n",
    "df = pd.read_excel('../data/cities_streetview_run_1.xlsx', engine='openpyxl')\n",
    "\n",
    "# Filter the rows based on the date condition\n",
    "print(\"CITIES STREETVIEWED: \")\n",
    "print(\"within the last year: \",len(df[df['date'] >= '2022-11']))\n",
    "print(\"within the last 6 months: \",len(df[df['date'] >= '2023-05']))\n",
    "print(\"within the past 3 months: \",len(df[df['date'] >= '2023-08']))\n",
    "print(\"within the past month: \",len(df[df['date'] >= '2023-10']))"
   ]
  },
  {
   "cell_type": "code",
   "execution_count": null,
   "metadata": {},
   "outputs": [],
   "source": []
  },
  {
   "cell_type": "code",
   "execution_count": null,
   "metadata": {},
   "outputs": [],
   "source": [
    "from dotenv import load_dotenv\n",
    "import os\n",
    "import requests\n",
    "import random\n",
    "from utils import request_streetview\n",
    "\n",
    "load_dotenv()\n",
    "\n",
    "GOOGLE_MAPS_API_KEY = os.getenv(\"GOOGLE_MAPS_API_KEY\")\n",
    "\n",
    "## GRAB SINGLE IMAGE, AND PASS IT TO THE MODEL\n",
    "lat = 48.486132\n",
    "lng = -123.325421\n",
    "\n",
    "parameters = {\n",
    "    \"location\": f'{lat},{lng}',\n",
    "    \"size\": '640x300',\n",
    "    \"return_error_code\": 'true',\n",
    "    \"key\": GOOGLE_MAPS_API_KEY,\n",
    "    \"fov\": 120,\n",
    "    \"heading\": 0,\n",
    "    \"pitch\": 0,\n",
    "    \"source\": \"outdoor\",\n",
    "    \"radius\": 50\n",
    "}\n",
    "# pano_id are dynamic, use location instead\n",
    "\n",
    "id = random.randint(0, 1000)\n",
    "file_base_path = f\"../images/sample_image{id}\"\n",
    "\n",
    "parameters['heading'] = 0\n",
    "request_streetview(parameters, f\"{file_base_path}_N.jpg\")\n",
    "\n",
    "parameters['heading'] = 90\n",
    "request_streetview(parameters, f\"{file_base_path}_E.jpg\")\n",
    "\n",
    "parameters['heading'] = 180\n",
    "request_streetview(parameters, f\"{file_base_path}_S.jpg\")\n",
    "\n",
    "parameters['heading'] = 270\n",
    "request_streetview(parameters, f\"{file_base_path}_W.jpg\")\n"
   ]
  },
  {
   "cell_type": "code",
   "execution_count": null,
   "metadata": {},
   "outputs": [],
   "source": [
    "import pandas as pd\n",
    "\n",
    "load_dotenv()\n",
    "GOOGLE_MAPS_API_KEY = os.getenv('GOOGLE_MAPS_API_KEY')\n",
    "URL_SIGNING_SECRET = os.getenv('URL_SIGNING_SECRET')\n",
    "\n",
    "full_df = pd.read_excel('north-america-cities.csv')\n",
    "filtered_df = pd.read_excel('cities_streetview_full_run.xlsx', engine='openpyxl')\n",
    "\n",
    "# Takes city and location, and returns list of unique coordinates where streetview images were taken\n",
    "def streetview_gridsearch(city, lat, lng):\n",
    "    DEGREE_IN_METERS = 111139\n",
    "    diff = 50/DEGREE_IN_METERS\n",
    "    \n",
    "    # Calculate using the formula: length = (population / density) ** 0.5\n",
    "    city_length = (full_df[city][\"population\"] / full_df[city][\"density\"]) ** 0.5\n",
    "    locations = []\n",
    "    \n",
    "    # Search in a square of 110% of the city's theoretical length\n",
    "    step_length = 0.05 # 50 meters\n",
    "    grid_length = (city_length * 1.1) / step_length\n",
    "    for x in range(grid_length):\n",
    "        for y in range(grid_length):\n",
    "            locations.append((lat + (x * step_length) - (grid_length * step_length / 2), lng + (y * step_length) - (grid_length * step_length / 2)))\n",
    "\n",
    "    for location in locations:\n",
    "        unsigned_url = f\"https://maps.googleapis.com/maps/api/streetview/metadata?location={location[0]},{location[1]}&key={GOOGLE_MAPS_API_KEY}\"\n",
    "        signed_url = sign_url(unsigned_url, URL_SIGNING_SECRET)\n",
    "\n",
    "        response = requests.get(signed_url, stream=True).json()\n",
    "        # print(\"response: \", response)\n",
    "        if response[\"status\"] == \"OK\":\n",
    "            return {\"city\": city_name,\n",
    "                    \"date\": response[\"date\"],\n",
    "                    \"lat\": response[\"location\"][\"lat\"],\n",
    "                    \"lng\": response[\"location\"][\"lng\"],\n",
    "                    \"status\": \"OK\"}\n",
    "        elif response[\"status\"] == \"ZERO_RESULTS\":\n",
    "            continue\n",
    "        else:\n",
    "            raise Exception(\"Error: \", response[\"status\"])\n",
    "\n",
    "    return {\"city\": city_name,\n",
    "            \"date\": None,\n",
    "            \"lat\": None,\n",
    "            \"lng\": None,\n",
    "            \"status\": \"NOT_FOUND\"}"
   ]
  }
 ],
 "metadata": {
  "kernelspec": {
   "display_name": "Python 3",
   "language": "python",
   "name": "python3"
  },
  "language_info": {
   "codemirror_mode": {
    "name": "ipython",
    "version": 3
   },
   "file_extension": ".py",
   "mimetype": "text/x-python",
   "name": "python",
   "nbconvert_exporter": "python",
   "pygments_lexer": "ipython3",
   "version": "3.11.6"
  }
 },
 "nbformat": 4,
 "nbformat_minor": 2
}
