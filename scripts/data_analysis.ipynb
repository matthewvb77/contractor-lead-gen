{
 "cells": [
  {
   "cell_type": "code",
   "execution_count": null,
   "metadata": {},
   "outputs": [],
   "source": [
    "import pandas as pd\n",
    "\n",
    "df = pd.read_excel('../data/cities_streetview_run_1.xlsx', engine='openpyxl')\n",
    "\n",
    "# Filter the rows based on the date condition\n",
    "print(\"CITIES STREETVIEWED: \")\n",
    "print(\"within the last year: \",len(df[df['date'] >= '2022-11']))\n",
    "print(\"within the last 6 months: \",len(df[df['date'] >= '2023-05']))\n",
    "print(\"within the past 3 months: \",len(df[df['date'] >= '2023-08']))\n",
    "print(\"within the past month: \",len(df[df['date'] >= '2023-10']))"
   ]
  },
  {
   "cell_type": "code",
   "execution_count": null,
   "metadata": {},
   "outputs": [],
   "source": [
    "from utils import request_streetview\n",
    "\n",
    "location='48.486132,-123.325421'\n",
    "params = {\n",
    "    \"location\": location,\n",
    "    \"size\": '640x300',\n",
    "    \"return_error_code\": 'true',\n",
    "    \"fov\": 120,\n",
    "    \"source\": \"outdoor\",\n",
    "}\n",
    "# pano_id are dynamic, use location instead\n",
    "\n",
    "for heading, direction in zip([0, 90, 180, 270], ['N', 'E', 'S', 'W']):\n",
    "    params['heading'] = heading\n",
    "    request_streetview(params, f\"../images/{location}_{direction}.jpg\")\n"
   ]
  },
  {
   "cell_type": "code",
   "execution_count": null,
   "metadata": {},
   "outputs": [],
   "source": [
    "from scrape_region import scrape_region\n",
    "\n",
    "scrape_region()"
   ]
  }
 ],
 "metadata": {
  "kernelspec": {
   "display_name": "Python 3",
   "language": "python",
   "name": "python3"
  },
  "language_info": {
   "codemirror_mode": {
    "name": "ipython",
    "version": 3
   },
   "file_extension": ".py",
   "mimetype": "text/x-python",
   "name": "python",
   "nbconvert_exporter": "python",
   "pygments_lexer": "ipython3",
   "version": "3.11.6"
  }
 },
 "nbformat": 4,
 "nbformat_minor": 2
}
