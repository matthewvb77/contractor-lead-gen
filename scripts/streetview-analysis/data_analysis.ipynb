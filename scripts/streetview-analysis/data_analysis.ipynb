{
 "cells": [
  {
   "cell_type": "code",
   "execution_count": null,
   "metadata": {},
   "outputs": [],
   "source": [
    "import pandas as pd\n",
    "\n",
    "df = pd.read_excel('cities_streetview_run_1.xlsx', engine='openpyxl')\n",
    "\n",
    "# Filter the rows based on the date condition\n",
    "print(\"CITIES STREETVIEWED: \")\n",
    "print(\"within the last year: \",len(df[df['date'] >= '2022-11']))\n",
    "print(\"within the last 6 months: \",len(df[df['date'] >= '2023-05']))\n",
    "print(\"within the past 3 months: \",len(df[df['date'] >= '2023-08']))\n",
    "print(\"within the past month: \",len(df[df['date'] >= '2023-10']))\n",
    "\n"
   ]
  },
  {
   "cell_type": "code",
   "execution_count": 16,
   "metadata": {},
   "outputs": [
    {
     "name": "stdout",
     "output_type": "stream",
     "text": [
      "Image saved as ../../images/sample_image.jpg with size 76.71 KB\n"
     ]
    }
   ],
   "source": [
    "## GRAB SINGLE IMAGE, AND PASS IT TO THE MODEL\n",
    "from sign_url import sign_url\n",
    "from dotenv import load_dotenv\n",
    "import requests\n",
    "import os\n",
    "\n",
    "URL_SIGNING_SECRET = os.getenv(\"URL_SIGNING_SECRET\")\n",
    "GOOGLE_MAPS_API_KEY = os.getenv(\"GOOGLE_MAPS_API_KEY\")\n",
    "\n",
    "# Sample is london, Ontario\n",
    "# {'copyright': '© Google', 'date': '2023-07', 'location': {'lat': 42.98362377713629, 'lng': -81.24965439993474}, 'pano_id': 'r-501hayIC6PKLB9K1NT9g', 'status': 'OK'}\n",
    "parameters = {\n",
    "    \"location\": '42.9836, -81.2497',\n",
    "    \"size\": '640x640',\n",
    "    \"return_error_code\": 'true',\n",
    "    \"key\": GOOGLE_MAPS_API_KEY,\n",
    "    \"fov\": 120,\n",
    "    \"heading\": 0,\n",
    "    \"pitch\": 0,\n",
    "    \"source\": \"outdoor\",\n",
    "    \"radius\": 50\n",
    "}\n",
    "p_string = [f\"{key}={value}&\" for key, value in parameters.items()]\n",
    "p_string[-1] = '' # remove last &\n",
    "\n",
    "unsigned_url = f\"https://maps.googleapis.com/maps/api/streetview?{p_string}\"\n",
    "signed_url = sign_url(unsigned_url, URL_SIGNING_SECRET)\n",
    "\n",
    "# pano_id are dynamic, use location instead\n",
    "response = requests.get(signed_url, stream=True)\n",
    "\n",
    "file_path = \"../../images/sample_image.jpg\"\n",
    "if response.status_code == 200:\n",
    "    with open(file_path, 'wb') as file:\n",
    "        file.write(response.content)\n",
    "        \n",
    "    size_in_bytes = os.path.getsize(file_path)\n",
    "    size_in_kilobytes = size_in_bytes / 1024  # Convert size to KB for easier readability\n",
    "    print(f\"Image saved as {file_path} with size {size_in_kilobytes:.2f} KB\")\n",
    "else:\n",
    "    print(\"Error fetching image:\", response.status_code)"
   ]
  },
  {
   "cell_type": "code",
   "execution_count": null,
   "metadata": {},
   "outputs": [],
   "source": [
    "import pandas as pd\n",
    "\n",
    "load_dotenv()\n",
    "GOOGLE_MAPS_API_KEY = os.getenv('GOOGLE_MAPS_API_KEY')\n",
    "URL_SIGNING_SECRET = os.getenv('URL_SIGNING_SECRET')\n",
    "\n",
    "full_df = pd.read_excel('north-america-cities.csv')\n",
    "filtered_df = pd.read_excel('cities_streetview_full_run.xlsx', engine='openpyxl')\n",
    "\n",
    "# Takes city and location, and returns list of unique coordinates where streetview images were taken\n",
    "def streetview_gridsearch(city, lat, lng):\n",
    "    DEGREE_IN_METERS = 111139\n",
    "    diff = 50/DEGREE_IN_METERS\n",
    "    \n",
    "    # Calculate using the formula: length = (population / density) ** 0.5\n",
    "    city_length = (full_df[city][\"population\"] / full_df[city][\"density\"]) ** 0.5\n",
    "    locations = []\n",
    "    \n",
    "    # Search in a square of 110% of the city's theoretical length\n",
    "    step_length = 0.05 # 50 meters\n",
    "    grid_length = (city_length * 1.1) / step_length\n",
    "    for x in range(grid_length):\n",
    "        for y in range(grid_length):\n",
    "            locations.append((lat + (x * step_length) - (grid_length * step_length / 2), lng + (y * step_length) - (grid_length * step_length / 2)))\n",
    "\n",
    "    for location in locations:\n",
    "        unsigned_url = f\"https://maps.googleapis.com/maps/api/streetview/metadata?location={location[0]},{location[1]}&key={GOOGLE_MAPS_API_KEY}\"\n",
    "        signed_url = sign_url(unsigned_url, URL_SIGNING_SECRET)\n",
    "\n",
    "        response = requests.get(signed_url, stream=True).json()\n",
    "        # print(\"response: \", response)\n",
    "        if response[\"status\"] == \"OK\":\n",
    "            return {\"city\": city_name,\n",
    "                    \"date\": response[\"date\"],\n",
    "                    \"lat\": response[\"location\"][\"lat\"],\n",
    "                    \"lng\": response[\"location\"][\"lng\"],\n",
    "                    \"status\": \"OK\"}\n",
    "        elif response[\"status\"] == \"ZERO_RESULTS\":\n",
    "            continue\n",
    "        else:\n",
    "            raise Exception(\"Error: \", response[\"status\"])\n",
    "\n",
    "    return {\"city\": city_name,\n",
    "            \"date\": None,\n",
    "            \"lat\": None,\n",
    "            \"lng\": None,\n",
    "            \"status\": \"NOT_FOUND\"}"
   ]
  }
 ],
 "metadata": {
  "kernelspec": {
   "display_name": "Python 3",
   "language": "python",
   "name": "python3"
  },
  "language_info": {
   "codemirror_mode": {
    "name": "ipython",
    "version": 3
   },
   "file_extension": ".py",
   "mimetype": "text/x-python",
   "name": "python",
   "nbconvert_exporter": "python",
   "pygments_lexer": "ipython3",
   "version": "3.11.6"
  }
 },
 "nbformat": 4,
 "nbformat_minor": 2
}
