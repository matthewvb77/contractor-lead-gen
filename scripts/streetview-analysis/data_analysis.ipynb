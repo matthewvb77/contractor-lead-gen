{
 "cells": [
  {
   "cell_type": "code",
   "execution_count": 3,
   "metadata": {},
   "outputs": [
    {
     "name": "stdout",
     "output_type": "stream",
     "text": [
      "CITIES STREETVIEWED: \n",
      "within the last year:  273\n",
      "within the last 6 months:  137\n",
      "within the past 3 months:  45\n",
      "within the past month:  3\n"
     ]
    }
   ],
   "source": [
    "import pandas as pd\n",
    "\n",
    "df = pd.read_excel('cities_streetview_run_1.xlsx', engine='openpyxl')\n",
    "\n",
    "# Filter the rows based on the date condition\n",
    "print(\"CITIES STREETVIEWED: \")\n",
    "print(\"within the last year: \",len(df[df['date'] >= '2022-11']))\n",
    "print(\"within the last 6 months: \",len(df[df['date'] >= '2023-05']))\n",
    "print(\"within the past 3 months: \",len(df[df['date'] >= '2023-08']))\n",
    "print(\"within the past month: \",len(df[df['date'] >= '2023-10']))\n",
    "\n"
   ]
  },
  {
   "cell_type": "code",
   "execution_count": 10,
   "metadata": {},
   "outputs": [
    {
     "ename": "JSONDecodeError",
     "evalue": "Expecting value: line 1 column 1 (char 0)",
     "output_type": "error",
     "traceback": [
      "\u001b[0;31m---------------------------------------------------------------------------\u001b[0m",
      "\u001b[0;31mJSONDecodeError\u001b[0m                           Traceback (most recent call last)",
      "File \u001b[0;32m/opt/homebrew/lib/python3.11/site-packages/requests/models.py:971\u001b[0m, in \u001b[0;36mResponse.json\u001b[0;34m(self, **kwargs)\u001b[0m\n\u001b[1;32m    970\u001b[0m \u001b[39mtry\u001b[39;00m:\n\u001b[0;32m--> 971\u001b[0m     \u001b[39mreturn\u001b[39;00m complexjson\u001b[39m.\u001b[39;49mloads(\u001b[39mself\u001b[39;49m\u001b[39m.\u001b[39;49mtext, \u001b[39m*\u001b[39;49m\u001b[39m*\u001b[39;49mkwargs)\n\u001b[1;32m    972\u001b[0m \u001b[39mexcept\u001b[39;00m JSONDecodeError \u001b[39mas\u001b[39;00m e:\n\u001b[1;32m    973\u001b[0m     \u001b[39m# Catch JSON-related errors and raise as requests.JSONDecodeError\u001b[39;00m\n\u001b[1;32m    974\u001b[0m     \u001b[39m# This aliases json.JSONDecodeError and simplejson.JSONDecodeError\u001b[39;00m\n",
      "File \u001b[0;32m/opt/homebrew/Cellar/python@3.11/3.11.6/Frameworks/Python.framework/Versions/3.11/lib/python3.11/json/__init__.py:346\u001b[0m, in \u001b[0;36mloads\u001b[0;34m(s, cls, object_hook, parse_float, parse_int, parse_constant, object_pairs_hook, **kw)\u001b[0m\n\u001b[1;32m    343\u001b[0m \u001b[39mif\u001b[39;00m (\u001b[39mcls\u001b[39m \u001b[39mis\u001b[39;00m \u001b[39mNone\u001b[39;00m \u001b[39mand\u001b[39;00m object_hook \u001b[39mis\u001b[39;00m \u001b[39mNone\u001b[39;00m \u001b[39mand\u001b[39;00m\n\u001b[1;32m    344\u001b[0m         parse_int \u001b[39mis\u001b[39;00m \u001b[39mNone\u001b[39;00m \u001b[39mand\u001b[39;00m parse_float \u001b[39mis\u001b[39;00m \u001b[39mNone\u001b[39;00m \u001b[39mand\u001b[39;00m\n\u001b[1;32m    345\u001b[0m         parse_constant \u001b[39mis\u001b[39;00m \u001b[39mNone\u001b[39;00m \u001b[39mand\u001b[39;00m object_pairs_hook \u001b[39mis\u001b[39;00m \u001b[39mNone\u001b[39;00m \u001b[39mand\u001b[39;00m \u001b[39mnot\u001b[39;00m kw):\n\u001b[0;32m--> 346\u001b[0m     \u001b[39mreturn\u001b[39;00m _default_decoder\u001b[39m.\u001b[39;49mdecode(s)\n\u001b[1;32m    347\u001b[0m \u001b[39mif\u001b[39;00m \u001b[39mcls\u001b[39m \u001b[39mis\u001b[39;00m \u001b[39mNone\u001b[39;00m:\n",
      "File \u001b[0;32m/opt/homebrew/Cellar/python@3.11/3.11.6/Frameworks/Python.framework/Versions/3.11/lib/python3.11/json/decoder.py:337\u001b[0m, in \u001b[0;36mJSONDecoder.decode\u001b[0;34m(self, s, _w)\u001b[0m\n\u001b[1;32m    333\u001b[0m \u001b[39m\u001b[39m\u001b[39m\"\"\"Return the Python representation of ``s`` (a ``str`` instance\u001b[39;00m\n\u001b[1;32m    334\u001b[0m \u001b[39mcontaining a JSON document).\u001b[39;00m\n\u001b[1;32m    335\u001b[0m \n\u001b[1;32m    336\u001b[0m \u001b[39m\"\"\"\u001b[39;00m\n\u001b[0;32m--> 337\u001b[0m obj, end \u001b[39m=\u001b[39m \u001b[39mself\u001b[39;49m\u001b[39m.\u001b[39;49mraw_decode(s, idx\u001b[39m=\u001b[39;49m_w(s, \u001b[39m0\u001b[39;49m)\u001b[39m.\u001b[39;49mend())\n\u001b[1;32m    338\u001b[0m end \u001b[39m=\u001b[39m _w(s, end)\u001b[39m.\u001b[39mend()\n",
      "File \u001b[0;32m/opt/homebrew/Cellar/python@3.11/3.11.6/Frameworks/Python.framework/Versions/3.11/lib/python3.11/json/decoder.py:355\u001b[0m, in \u001b[0;36mJSONDecoder.raw_decode\u001b[0;34m(self, s, idx)\u001b[0m\n\u001b[1;32m    354\u001b[0m \u001b[39mexcept\u001b[39;00m \u001b[39mStopIteration\u001b[39;00m \u001b[39mas\u001b[39;00m err:\n\u001b[0;32m--> 355\u001b[0m     \u001b[39mraise\u001b[39;00m JSONDecodeError(\u001b[39m\"\u001b[39m\u001b[39mExpecting value\u001b[39m\u001b[39m\"\u001b[39m, s, err\u001b[39m.\u001b[39mvalue) \u001b[39mfrom\u001b[39;00m \u001b[39mNone\u001b[39;00m\n\u001b[1;32m    356\u001b[0m \u001b[39mreturn\u001b[39;00m obj, end\n",
      "\u001b[0;31mJSONDecodeError\u001b[0m: Expecting value: line 1 column 1 (char 0)",
      "\nDuring handling of the above exception, another exception occurred:\n",
      "\u001b[0;31mJSONDecodeError\u001b[0m                           Traceback (most recent call last)",
      "\u001b[1;32m/Users/matthewvanbrummelen/Projects/mv-effect/scripts/streetview-analysis/data_analysis.ipynb Cell 2\u001b[0m line \u001b[0;36m1\n\u001b[1;32m     <a href='vscode-notebook-cell:/Users/matthewvanbrummelen/Projects/mv-effect/scripts/streetview-analysis/data_analysis.ipynb#W2sZmlsZQ%3D%3D?line=15'>16</a>\u001b[0m signed_url \u001b[39m=\u001b[39m sign_url(unsigned_url, URL_SIGNING_SECRET)\n\u001b[1;32m     <a href='vscode-notebook-cell:/Users/matthewvanbrummelen/Projects/mv-effect/scripts/streetview-analysis/data_analysis.ipynb#W2sZmlsZQ%3D%3D?line=17'>18</a>\u001b[0m response \u001b[39m=\u001b[39m requests\u001b[39m.\u001b[39mget(signed_url, stream\u001b[39m=\u001b[39m\u001b[39mTrue\u001b[39;00m)\n\u001b[0;32m---> <a href='vscode-notebook-cell:/Users/matthewvanbrummelen/Projects/mv-effect/scripts/streetview-analysis/data_analysis.ipynb#W2sZmlsZQ%3D%3D?line=18'>19</a>\u001b[0m \u001b[39mprint\u001b[39m(response\u001b[39m.\u001b[39;49mjson())\n",
      "File \u001b[0;32m/opt/homebrew/lib/python3.11/site-packages/requests/models.py:975\u001b[0m, in \u001b[0;36mResponse.json\u001b[0;34m(self, **kwargs)\u001b[0m\n\u001b[1;32m    971\u001b[0m     \u001b[39mreturn\u001b[39;00m complexjson\u001b[39m.\u001b[39mloads(\u001b[39mself\u001b[39m\u001b[39m.\u001b[39mtext, \u001b[39m*\u001b[39m\u001b[39m*\u001b[39mkwargs)\n\u001b[1;32m    972\u001b[0m \u001b[39mexcept\u001b[39;00m JSONDecodeError \u001b[39mas\u001b[39;00m e:\n\u001b[1;32m    973\u001b[0m     \u001b[39m# Catch JSON-related errors and raise as requests.JSONDecodeError\u001b[39;00m\n\u001b[1;32m    974\u001b[0m     \u001b[39m# This aliases json.JSONDecodeError and simplejson.JSONDecodeError\u001b[39;00m\n\u001b[0;32m--> 975\u001b[0m     \u001b[39mraise\u001b[39;00m RequestsJSONDecodeError(e\u001b[39m.\u001b[39mmsg, e\u001b[39m.\u001b[39mdoc, e\u001b[39m.\u001b[39mpos)\n",
      "\u001b[0;31mJSONDecodeError\u001b[0m: Expecting value: line 1 column 1 (char 0)"
     ]
    }
   ],
   "source": [
    "## GRAB SINGLE IMAGE, AND PASS IT TO THE MODEL\n",
    "from sign_url import sign_url\n",
    "from dotenv import load_dotenv\n",
    "import requests\n",
    "import os\n",
    "\n",
    "URL_SIGNING_SECRET = os.getenv(\"URL_SIGNING_SECRET\")\n",
    "GOOGLE_MAPS_API_KEY = os.getenv(\"GOOGLE_MAPS_API_KEY\")\n",
    "# Sample is london, Ontario\n",
    "# {'copyright': '© Google', 'date': '2023-07', 'location': {'lat': 42.98362377713629, 'lng': -81.24965439993474}, 'pano_id': 'r-501hayIC6PKLB9K1NT9g', 'status': 'OK'}\n",
    "lat = 42.9836\n",
    "lng = -81.2497\n",
    "size = '640x640'\n",
    "# 640 x 640 is max size\n",
    "unsigned_url = f\"https://maps.googleapis.com/maps/api/streetview?size={size}&location={lat},{lng}&key={GOOGLE_MAPS_API_KEY}\"\n",
    "signed_url = sign_url(unsigned_url, URL_SIGNING_SECRET)\n",
    "\n",
    "response = requests.get(signed_url, stream=True)\n",
    "print(response)"
   ]
  },
  {
   "cell_type": "code",
   "execution_count": null,
   "metadata": {},
   "outputs": [],
   "source": [
    "import pandas as pd\n",
    "\n",
    "load_dotenv()\n",
    "GOOGLE_MAPS_API_KEY = os.getenv('GOOGLE_MAPS_API_KEY')\n",
    "URL_SIGNING_SECRET = os.getenv('URL_SIGNING_SECRET')\n",
    "\n",
    "full_df = pd.read_excel('north-america-cities.csv')\n",
    "filtered_df = pd.read_excel('cities_streetview_full_run.xlsx', engine='openpyxl')\n",
    "\n",
    "# Takes city and location, and returns list of unique coordinates where streetview images were taken\n",
    "def streetview_gridsearch(city, lat, lng):\n",
    "    DEGREE_IN_METERS = 111139\n",
    "    diff = 50/DEGREE_IN_METERS\n",
    "    \n",
    "    # Calculate using the formula: length = (population / density) ** 0.5\n",
    "    city_length = (full_df[city][\"population\"] / full_df[city][\"density\"]) ** 0.5\n",
    "    locations = []\n",
    "    \n",
    "    # Search in a square of 110% of the city's theoretical length\n",
    "    step_length = 0.05 # 50 meters\n",
    "    grid_length = (city_length * 1.1) / step_length\n",
    "    for x in range(grid_length):\n",
    "        for y in range(grid_length):\n",
    "            locations.append((lat + (x * step_length) - (grid_length * step_length / 2), lng + (y * step_length) - (grid_length * step_length / 2)))\n",
    "\n",
    "    for location in locations:\n",
    "        unsigned_url = f\"https://maps.googleapis.com/maps/api/streetview/metadata?location={location[0]},{location[1]}&key={GOOGLE_MAPS_API_KEY}\"\n",
    "        signed_url = sign_url(unsigned_url, URL_SIGNING_SECRET)\n",
    "\n",
    "        response = requests.get(signed_url, stream=True).json()\n",
    "        # print(\"response: \", response)\n",
    "        if response[\"status\"] == \"OK\":\n",
    "            return {\"city\": city_name,\n",
    "                    \"date\": response[\"date\"],\n",
    "                    \"lat\": response[\"location\"][\"lat\"],\n",
    "                    \"lng\": response[\"location\"][\"lng\"],\n",
    "                    \"status\": \"OK\"}\n",
    "        elif response[\"status\"] == \"ZERO_RESULTS\":\n",
    "            continue\n",
    "        else:\n",
    "            raise Exception(\"Error: \", response[\"status\"])\n",
    "\n",
    "    return {\"city\": city_name,\n",
    "            \"date\": None,\n",
    "            \"lat\": None,\n",
    "            \"lng\": None,\n",
    "            \"status\": \"NOT_FOUND\"}"
   ]
  }
 ],
 "metadata": {
  "kernelspec": {
   "display_name": "Python 3",
   "language": "python",
   "name": "python3"
  },
  "language_info": {
   "codemirror_mode": {
    "name": "ipython",
    "version": 3
   },
   "file_extension": ".py",
   "mimetype": "text/x-python",
   "name": "python",
   "nbconvert_exporter": "python",
   "pygments_lexer": "ipython3",
   "version": "3.11.6"
  }
 },
 "nbformat": 4,
 "nbformat_minor": 2
}
