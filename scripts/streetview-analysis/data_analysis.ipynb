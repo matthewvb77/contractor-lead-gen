{
 "cells": [
  {
   "cell_type": "code",
   "execution_count": 9,
   "metadata": {},
   "outputs": [
    {
     "name": "stdout",
     "output_type": "stream",
     "text": [
      "CITIES STREETVIEWED: \n",
      "within the last year:  272\n",
      "within the last 6 months:  136\n",
      "within the past 3 months:  43\n",
      "within the past month:  2\n"
     ]
    }
   ],
   "source": [
    "import pandas as pd\n",
    "\n",
    "df = pd.read_excel('cities_streetview_full_run.xlsx', engine='openpyxl')\n",
    "\n",
    "# Filter the rows based on the date condition\n",
    "print(\"CITIES STREETVIEWED: \")\n",
    "print(\"within the last year: \",len(df[df['date'] >= '2022-11']))\n",
    "print(\"within the last 6 months: \",len(df[df['date'] >= '2023-05']))\n",
    "print(\"within the past 3 months: \",len(df[df['date'] >= '2023-08']))\n",
    "print(\"within the past month: \",len(df[df['date'] >= '2023-10']))\n",
    "\n"
   ]
  },
  {
   "cell_type": "code",
   "execution_count": null,
   "metadata": {},
   "outputs": [],
   "source": []
  }
 ],
 "metadata": {
  "kernelspec": {
   "display_name": "Python 3",
   "language": "python",
   "name": "python3"
  },
  "language_info": {
   "codemirror_mode": {
    "name": "ipython",
    "version": 3
   },
   "file_extension": ".py",
   "mimetype": "text/x-python",
   "name": "python",
   "nbconvert_exporter": "python",
   "pygments_lexer": "ipython3",
   "version": "3.11.6"
  }
 },
 "nbformat": 4,
 "nbformat_minor": 2
}
